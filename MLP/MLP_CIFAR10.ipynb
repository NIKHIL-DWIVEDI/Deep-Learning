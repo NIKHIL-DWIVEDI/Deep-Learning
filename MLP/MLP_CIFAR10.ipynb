{
 "cells": [
  {
   "cell_type": "code",
   "execution_count": 50,
   "metadata": {},
   "outputs": [],
   "source": [
    "import numpy as np\n",
    "import pandas as pd\n",
    "import matplotlib.pyplot as plt\n",
    "import torchvision\n",
    "from torchvision.datasets import CIFAR10\n",
    "from torchvision.transforms import transforms\n",
    "from torch.utils.data.dataloader import DataLoader\n",
    "from torch.utils.data.sampler import SubsetRandomSampler\n",
    "import torch.nn as nn\n",
    "import torch\n",
    "import torch.nn.functional as F\n"
   ]
  },
  {
   "cell_type": "code",
   "execution_count": 51,
   "metadata": {},
   "outputs": [
    {
     "name": "stdout",
     "output_type": "stream",
     "text": [
      "Files already downloaded and verified\n",
      "Files already downloaded and verified\n"
     ]
    }
   ],
   "source": [
    "train_dataset=CIFAR10(root='data/',train=True,transform=transforms.ToTensor(),download=True)\n",
    "test_dataset=CIFAR10(root='data/',train=False,transform=transforms.ToTensor(),download=True)"
   ]
  },
  {
   "cell_type": "code",
   "execution_count": 52,
   "metadata": {},
   "outputs": [
    {
     "name": "stdout",
     "output_type": "stream",
     "text": [
      "1\n"
     ]
    },
    {
     "data": {
      "image/png": "[encoded data removed]",
      "text/plain": [
       "<Figure size 640x480 with 1 Axes>"
      ]
     },
     "metadata": {},
     "output_type": "display_data"
    }
   ],
   "source": [
    "img,label=train_dataset[4]\n",
    "plt.imshow(img.reshape(32,32,3))\n",
    "# plt.imshow(img.reshape(()))\n",
    "print(label)"
   ]
  },
  {
   "cell_type": "code",
   "execution_count": 53,
   "metadata": {},
   "outputs": [],
   "source": [
    "## split the train dataset into train and validation dataset\n",
    "def train_val_split(n,n_val):\n",
    "    val_len=int(n_val*n)\n",
    "    train_len=n-val_len\n",
    "    idx=np.random.permutation(n)\n",
    "    return idx[:train_len], idx[train_len:]"
   ]
  },
  {
   "cell_type": "code",
   "execution_count": 54,
   "metadata": {},
   "outputs": [],
   "source": [
    "train_idx,val_idx=train_val_split(len(train_dataset),0.1)"
   ]
  },
  {
   "cell_type": "code",
   "execution_count": 55,
   "metadata": {},
   "outputs": [],
   "source": [
    "### training sampler and dataloader\n",
    "train_sampler=SubsetRandomSampler(train_idx)\n",
    "train_dataloader=DataLoader(dataset=train_dataset,batch_size=16,sampler=train_sampler,num_workers=2)\n",
    "\n",
    "### validation sampler and dataloader\n",
    "val_sampler=SubsetRandomSampler(val_idx)\n",
    "val_dataloader=DataLoader(dataset=train_dataset,batch_size=16,sampler=val_sampler,num_workers=2)"
   ]
  },
  {
   "cell_type": "code",
   "execution_count": 56,
   "metadata": {},
   "outputs": [],
   "source": [
    "input_size=3*32*32\n",
    "classes=10"
   ]
  },
  {
   "cell_type": "code",
   "execution_count": 57,
   "metadata": {},
   "outputs": [],
   "source": [
    "class MLP(nn.Module):\n",
    "    def __init__(self,input_size,classes):\n",
    "        super().__init__()\n",
    "        self.l1=nn.Linear(in_features=input_size,out_features=input_size*4,bias=True)\n",
    "        self.l2=nn.Linear(in_features=input_size*4,out_features=input_size*8,bias=True)\n",
    "        # self.l3=nn.Linear(in_features=input_size*8,out_features=input_size*16,bias=True)\n",
    "        # self.l4=nn.Linear(in_features=input_size*16,out_features=input_size*8,bias=True)\n",
    "        self.l5=nn.Linear(in_features=input_size*8, out_features=input_size*2,bias=True)\n",
    "        self.relu=nn.ReLU()\n",
    "        self.dropout=nn.Dropout(p=0.2)\n",
    "\n",
    "    def forward(self,x):\n",
    "        x1=self.relu(self.l1(x))\n",
    "        x2=self.relu(self.l2(x1))\n",
    "        # x3=self.relu(self.l3(x2))\n",
    "        # x4=self.relu(self.l4(x3))\n",
    "        x5=self.relu(self.l5(x2))\n",
    "        x6=nn.Softmax(x5)\n",
    "        return x5\n"
   ]
  },
  {
   "cell_type": "code",
   "execution_count": 58,
   "metadata": {},
   "outputs": [
    {
     "ename": "RuntimeError",
     "evalue": "[enforce fail at ..\\c10\\core\\impl\\alloc_cpu.cpp:72] data. DefaultCPUAllocator: not enough memory: you tried to allocate 1207959552 bytes.",
     "output_type": "error",
     "traceback": [
      "\u001b[1;31m---------------------------------------------------------------------------\u001b[0m",
      "\u001b[1;31mRuntimeError\u001b[0m                              Traceback (most recent call last)",
      "Cell \u001b[1;32mIn [58], line 1\u001b[0m\n\u001b[1;32m----> 1\u001b[0m model\u001b[39m=\u001b[39mMLP(input_size,classes)\n\u001b[0;32m      2\u001b[0m model\n",
      "Cell \u001b[1;32mIn [57], line 5\u001b[0m, in \u001b[0;36mMLP.__init__\u001b[1;34m(self, input_size, classes)\u001b[0m\n\u001b[0;32m      3\u001b[0m \u001b[39msuper\u001b[39m()\u001b[39m.\u001b[39m\u001b[39m__init__\u001b[39m()\n\u001b[0;32m      4\u001b[0m \u001b[39mself\u001b[39m\u001b[39m.\u001b[39ml1\u001b[39m=\u001b[39mnn\u001b[39m.\u001b[39mLinear(in_features\u001b[39m=\u001b[39minput_size,out_features\u001b[39m=\u001b[39minput_size\u001b[39m*\u001b[39m\u001b[39m4\u001b[39m,bias\u001b[39m=\u001b[39m\u001b[39mTrue\u001b[39;00m)\n\u001b[1;32m----> 5\u001b[0m \u001b[39mself\u001b[39m\u001b[39m.\u001b[39ml2\u001b[39m=\u001b[39mnn\u001b[39m.\u001b[39;49mLinear(in_features\u001b[39m=\u001b[39;49minput_size\u001b[39m*\u001b[39;49m\u001b[39m4\u001b[39;49m,out_features\u001b[39m=\u001b[39;49minput_size\u001b[39m*\u001b[39;49m\u001b[39m8\u001b[39;49m,bias\u001b[39m=\u001b[39;49m\u001b[39mTrue\u001b[39;49;00m)\n\u001b[0;32m      6\u001b[0m \u001b[39m# self.l3=nn.Linear(in_features=input_size*8,out_features=input_size*16,bias=True)\u001b[39;00m\n\u001b[0;32m      7\u001b[0m \u001b[39m# self.l4=nn.Linear(in_features=input_size*16,out_features=input_size*8,bias=True)\u001b[39;00m\n\u001b[0;32m      8\u001b[0m \u001b[39mself\u001b[39m\u001b[39m.\u001b[39ml5\u001b[39m=\u001b[39mnn\u001b[39m.\u001b[39mLinear(in_features\u001b[39m=\u001b[39minput_size\u001b[39m*\u001b[39m\u001b[39m8\u001b[39m, out_features\u001b[39m=\u001b[39minput_size\u001b[39m*\u001b[39m\u001b[39m2\u001b[39m,bias\u001b[39m=\u001b[39m\u001b[39mTrue\u001b[39;00m)\n",
      "File \u001b[1;32mc:\\Users\\HP\\miniconda3\\envs\\tution\\lib\\site-packages\\torch\\nn\\modules\\linear.py:96\u001b[0m, in \u001b[0;36mLinear.__init__\u001b[1;34m(self, in_features, out_features, bias, device, dtype)\u001b[0m\n\u001b[0;32m     94\u001b[0m \u001b[39mself\u001b[39m\u001b[39m.\u001b[39min_features \u001b[39m=\u001b[39m in_features\n\u001b[0;32m     95\u001b[0m \u001b[39mself\u001b[39m\u001b[39m.\u001b[39mout_features \u001b[39m=\u001b[39m out_features\n\u001b[1;32m---> 96\u001b[0m \u001b[39mself\u001b[39m\u001b[39m.\u001b[39mweight \u001b[39m=\u001b[39m Parameter(torch\u001b[39m.\u001b[39mempty((out_features, in_features), \u001b[39m*\u001b[39m\u001b[39m*\u001b[39mfactory_kwargs))\n\u001b[0;32m     97\u001b[0m \u001b[39mif\u001b[39;00m bias:\n\u001b[0;32m     98\u001b[0m     \u001b[39mself\u001b[39m\u001b[39m.\u001b[39mbias \u001b[39m=\u001b[39m Parameter(torch\u001b[39m.\u001b[39mempty(out_features, \u001b[39m*\u001b[39m\u001b[39m*\u001b[39mfactory_kwargs))\n",
      "\u001b[1;31mRuntimeError\u001b[0m: [enforce fail at ..\\c10\\core\\impl\\alloc_cpu.cpp:72] data. DefaultCPUAllocator: not enough memory: you tried to allocate 1207959552 bytes."
     ]
    }
   ],
   "source": [
    "model=MLP(input_size,classes)\n",
    "model"
   ]
  },
  {
   "cell_type": "code",
   "execution_count": null,
   "metadata": {},
   "outputs": [],
   "source": [
    "### train model\n",
    "def train(model,epochs,train_dataloader,val_dataloader,learning_rate):\n",
    "    ##optimiser\n",
    "    optimiser=torch.optim.Adam(params=model.parameters(),lr=learning_rate)\n",
    "    ##loss \n",
    "    loss_func=F.cross_entropy\n",
    "    training_loss=[]\n",
    "    \n",
    "    for epoch in range(epochs):\n",
    "        for x,y in train_dataloader:\n",
    "            out=model(x)\n",
    "            print(out)\n",
    "            break\n",
    "        break\n",
    "\n",
    "\n",
    "\n",
    "\n"
   ]
  },
  {
   "cell_type": "code",
   "execution_count": null,
   "metadata": {},
   "outputs": [],
   "source": [
    "train(model,1,train_dataloader,val_dataloader,0.001)"
   ]
  },
  {
   "cell_type": "code",
   "execution_count": null,
   "metadata": {},
   "outputs": [],
   "source": []
  }
 ],
 "metadata": {
  "kernelspec": {
   "display_name": "tution",
   "language": "python",
   "name": "python3"
  },
  "language_info": {
   "codemirror_mode": {
    "name": "ipython",
    "version": 3
   },
   "file_extension": ".py",
   "mimetype": "text/x-python",
   "name": "python",
   "nbconvert_exporter": "python",
   "pygments_lexer": "ipython3",
   "version": "3.10.6"
  },
  "orig_nbformat": 4,
  "vscode": {
   "interpreter": {
    "hash": "a62792a79c2b3934f6c33079185f58ec79826aad91feeec7734cde69fe96cda3"
   }
  }
 },
 "nbformat": 4,
 "nbformat_minor": 2
}
